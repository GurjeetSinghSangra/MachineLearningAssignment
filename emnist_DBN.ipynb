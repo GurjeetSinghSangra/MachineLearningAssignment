{
  "nbformat": 4,
  "nbformat_minor": 0,
  "metadata": {
    "colab": {
      "name": "emnist_DBN.ipynb",
      "provenance": [],
      "collapsed_sections": [],
      "include_colab_link": true
    },
    "kernelspec": {
      "name": "python3",
      "display_name": "Python 3"
    },
    "accelerator": "GPU"
  },
  "cells": [
    {
      "cell_type": "markdown",
      "metadata": {
        "id": "view-in-github",
        "colab_type": "text"
      },
      "source": [
        "<a href=\"https://colab.research.google.com/github/GurjeetSinghSangra/MachineLearningAssignment/blob/main/emnist_DBN.ipynb\" target=\"_parent\"><img src=\"https://colab.research.google.com/assets/colab-badge.svg\" alt=\"Open In Colab\"/></a>"
      ]
    },
    {
      "cell_type": "code",
      "metadata": {
        "colab": {
          "base_uri": "https://localhost:8080/",
          "height": 0
        },
        "id": "ZUbP8YY3Fwke",
        "outputId": "04e5039b-2e06-4894-d368-1bd1bb2186f5"
      },
      "source": [
        "!pip install scikit-plot\n",
        "#%matplotlib tk\n",
        "##################################################\n",
        "# Imports\n",
        "##################################################\n",
        "import numpy as np\n",
        "import numpy.matlib\n",
        "import math\n",
        "import scipy.io\n",
        "from sklearn import svm, datasets\n",
        "import time\n",
        "import matplotlib.pyplot as plt\n",
        "import torch\n",
        "import torch.nn as nn #torch made by layers, in nn we have linear layer which implements standard forward fully connected layer\n",
        "import torch.nn.functional as F \n",
        "import torchvision #used for data loading\n",
        "import torch.optim as optim #optimizer for the gradient\n",
        "from tqdm.notebook import tqdm\n",
        "import time\n",
        "import scikitplot as skplt\n",
        "import matplotlib.gridspec as gridspec\n",
        "from skimage.util import random_noise\n",
        "\n",
        "\n",
        "# Setting the device\n",
        "if torch.cuda.is_available(): \n",
        "    print('GPU enabled!')\n",
        "    device = torch.device(\"cuda:0\")\n",
        "else:\n",
        "    print('You are not using the GPU, activate it following:')\n",
        " "
      ],
      "execution_count": 76,
      "outputs": [
        {
          "output_type": "stream",
          "text": [
            "Requirement already satisfied: scikit-plot in /usr/local/lib/python3.6/dist-packages (0.3.7)\n",
            "Requirement already satisfied: scikit-learn>=0.18 in /usr/local/lib/python3.6/dist-packages (from scikit-plot) (0.22.2.post1)\n",
            "Requirement already satisfied: scipy>=0.9 in /usr/local/lib/python3.6/dist-packages (from scikit-plot) (1.4.1)\n",
            "Requirement already satisfied: joblib>=0.10 in /usr/local/lib/python3.6/dist-packages (from scikit-plot) (1.0.0)\n",
            "Requirement already satisfied: matplotlib>=1.4.0 in /usr/local/lib/python3.6/dist-packages (from scikit-plot) (3.2.2)\n",
            "Requirement already satisfied: numpy>=1.11.0 in /usr/local/lib/python3.6/dist-packages (from scikit-learn>=0.18->scikit-plot) (1.19.5)\n",
            "Requirement already satisfied: cycler>=0.10 in /usr/local/lib/python3.6/dist-packages (from matplotlib>=1.4.0->scikit-plot) (0.10.0)\n",
            "Requirement already satisfied: python-dateutil>=2.1 in /usr/local/lib/python3.6/dist-packages (from matplotlib>=1.4.0->scikit-plot) (2.8.1)\n",
            "Requirement already satisfied: pyparsing!=2.0.4,!=2.1.2,!=2.1.6,>=2.0.1 in /usr/local/lib/python3.6/dist-packages (from matplotlib>=1.4.0->scikit-plot) (2.4.7)\n",
            "Requirement already satisfied: kiwisolver>=1.0.1 in /usr/local/lib/python3.6/dist-packages (from matplotlib>=1.4.0->scikit-plot) (1.3.1)\n",
            "Requirement already satisfied: six in /usr/local/lib/python3.6/dist-packages (from cycler>=0.10->matplotlib>=1.4.0->scikit-plot) (1.15.0)\n",
            "GPU enabled!\n"
          ],
          "name": "stdout"
        }
      ]
    },
    {
      "cell_type": "code",
      "metadata": {
        "id": "vGQEKA80CLxC"
      },
      "source": [
        "def rotate(image):\n",
        "    image = image.reshape([28, 28])\n",
        "    image = np.fliplr(image)\n",
        "    image = np.rot90(image)\n",
        "    return image\n",
        "\n",
        "def get_cmap(n, name='hsv'):\n",
        "    return plt.cm.get_cmap(name, n)\n",
        "\n",
        "def autolabel(rects, ax):\n",
        "    \"\"\"Attach a text label above each bar in *rects*, displaying its height.\"\"\"\n",
        "    for rect in rects:\n",
        "        height = rect.get_height()\n",
        "        ax.annotate('{:.2f}'.format(height),\n",
        "                    xy=(rect.get_x() + rect.get_width() / 2, height),\n",
        "                    xytext=(0, 3),  # 3 points vertical offset\n",
        "                    textcoords=\"offset points\",\n",
        "                    ha='center', va='bottom')\n",
        "        \n",
        "def save_to_matlab_model(dbn_model):\n",
        "  savematname = 'DN_COLAB_{0}.mat'.format(dbn_model.to_string())\n",
        "  scipy.io.savemat(savematname, {'DN': dbn_model.DN})\n",
        "\n",
        "np.set_printoptions(precision=2)        \n",
        "#images = np.apply_along_axis(rotate, 1, x_train)\n",
        "#plt.imshow(images[1,], cmap=plt.get_cmap('gray')) "
      ],
      "execution_count": 77,
      "outputs": []
    },
    {
      "cell_type": "code",
      "metadata": {
        "id": "t7Q0OXOsKDcF"
      },
      "source": [
        "class DBN(nn.Module):\n",
        "\n",
        "  def __init__(self, layers_nn, maxepochs=50, batchsize=150, epsilonw=0.1, \\\n",
        "                               sparsity=True, spars_factor=0.04, epsilonvb=0.1, epsilonhb=0.1, weightcost=0.0002, init_momentum=0.5, final_momentum=0.9):\n",
        "    super(DBN, self).__init__()\n",
        "    self.DN = {}\n",
        "    self.DN['layersize'] = layers_nn\n",
        "    self.DN['nlayers'] = len(layers_nn)\n",
        "    self.DN['batchsize'] = batchsize\n",
        "    self.DN['maxepochs'] = maxepochs\n",
        "    self.epsilonw_GPU = epsilonw #learning rate DeltaW = epsilonw (pos_v * pos_h - neg_v * neg_h)\n",
        "    self.epsilonvb=epsilonvb\n",
        "    self.epsilonhb=epsilonhb\n",
        "    self.weightcost = weightcost #constant weight decrease\n",
        "    self.initialmomentum = init_momentum\n",
        "    self.finalmomentum = final_momentum\n",
        "    self.sparsity = sparsity\n",
        "    self.spars_factor = spars_factor\n",
        "    self.DN['errors'] = {}\n",
        "  \n",
        "  def train_dbn(self, batch, device):\n",
        "\n",
        "    batchdata = torch.Tensor(batch).to(device)\n",
        "    nlayers = self.DN['nlayers']\n",
        "    for layer in range(0, nlayers):\n",
        "        print ('Training layer ', layer+1, '...')\n",
        "        if layer == 0:\n",
        "            data_GPU = batchdata\n",
        "        else:\n",
        "            data_GPU = batchposhidprobs\n",
        "        \n",
        "        numhid = self.DN['layersize'][layer]\n",
        "        numcases, numdims, numbatches = data_GPU.shape\n",
        "        vishid_GPU       = 0.1 * torch.randn(numdims, numhid, device=device) #normal dist weights with standard deviation 0.01\n",
        "        #print(vishid_GPU.shape)\n",
        "        hidbiases_GPU    = torch.zeros(numhid, device=device)\n",
        "        visbiases_GPU    = torch.zeros(numdims, device=device)\n",
        "        vishidinc_GPU    = torch.zeros((numdims, numhid), device=device)\n",
        "        hidbiasinc_GPU   = torch.zeros(numhid, device=device)\n",
        "        visbiasinc_GPU   = torch.zeros(numdims, device=device)\n",
        "        batchposhidprobs = torch.zeros((numcases, numhid, numbatches), device=device)\n",
        "        self.DN['errors'][layer] = []\n",
        "\n",
        "\n",
        "        sigmoid = nn.Sigmoid()\n",
        "        for epoch in range(self.DN['maxepochs']):\n",
        "            errsum = 0\n",
        "            for mb in range(numbatches):\n",
        "                data_mb = data_GPU[:, :, mb]\n",
        "                #%%%%%%%% START POSITIVE PHASE %%%%%%%%%\n",
        "                #1./(1 + exp(-poshidstates * vishid' - repmat(visbiases, numcases, 1))); \n",
        "                poshidprobs_GPU = sigmoid((torch.mm(data_mb, vishid_GPU) + hidbiases_GPU))\n",
        "                posprods_GPU    = torch.mm(data_mb.T, poshidprobs_GPU)\n",
        "                poshidact_GPU   = poshidprobs_GPU.sum(0)\n",
        "                #posvisact_GPU   = data_GPU[:, :, mb].sum(0)\n",
        "                posvisact_GPU   = data_mb.sum(0)\n",
        "                #%%%%%%%% END OF POSITIVE PHASE %%%%%%%%%\n",
        "                poshidstates_GPU = poshidprobs_GPU > (torch.rand(numcases, numhid, device=device))\n",
        "                poshidstates_GPU = torch.gt(poshidstates_GPU, 0).float()\n",
        "\n",
        "                #%%%%%%%% START NEGATIVE PHASE  %%%%%%%%%\n",
        "                negdata_GPU     = sigmoid((torch.mm(poshidstates_GPU, vishid_GPU.T) + visbiases_GPU))\n",
        "                neghidprobs_GPU = sigmoid((torch.mm(negdata_GPU, vishid_GPU) + hidbiases_GPU))\n",
        "                negprods_GPU    = torch.mm(negdata_GPU.T, neghidprobs_GPU)\n",
        "                neghidact_GPU   = neghidprobs_GPU.sum(0)\n",
        "                negvisact_GPU   = negdata_GPU.sum(0)\n",
        "                #%%%%%%%% END OF NEGATIVE PHASE %%%%%%%%%\n",
        "                \n",
        "                err = torch.sqrt(torch.sum(torch.sum((data_mb - negdata_GPU)**2, dim=0)))\n",
        "                if self.DN['maxepochs']  > 5:\n",
        "                  self.momentum = self.finalmomentum\n",
        "                else:\n",
        "                  self.momentum = self.initialmomentum\n",
        "\n",
        "                #%%%%%%%% UPDATE WEIGHTS AND BIASES %%%%%%%%%\n",
        "                vishidinc_GPU  = vishidinc_GPU  * self.momentum + self.epsilonw_GPU * ((posprods_GPU - negprods_GPU) / numcases - self.weightcost * vishid_GPU)\n",
        "                visbiasinc_GPU = visbiasinc_GPU * self.momentum + (posvisact_GPU - negvisact_GPU) * (self.epsilonvb / numcases)\n",
        "                hidbiasinc_GPU = hidbiasinc_GPU * self.momentum + (poshidact_GPU - neghidact_GPU) * (self.epsilonhb / numcases)\n",
        "                vishid_GPU     = vishid_GPU + vishidinc_GPU\n",
        "                visbiases_GPU  = visbiases_GPU + visbiasinc_GPU\n",
        "                hidbiases_GPU  = hidbiases_GPU + hidbiasinc_GPU\n",
        "                #%%%%%%%% END OF UPDATES %%%%%%%%%\n",
        "                # END RBM\n",
        "                \n",
        "                errsum = err + errsum\n",
        "\n",
        "                if epoch == self.DN['maxepochs']-1:\n",
        "                    batchposhidprobs[:, :, mb] = poshidprobs_GPU\n",
        "\n",
        "                #TODO: Sparsity\n",
        "                if self.sparsity and (layer == nlayers-1):\n",
        "                  #poshidact_GPU = poshidprobs_GPU.sum(0)\n",
        "                  Q = poshidact_GPU / self.DN['batchsize']\n",
        "                  if (torch.mean(Q) > self.spars_factor):\n",
        "                    hidbiases_GPU = hidbiases_GPU - self.epsilonhb * (Q - self.spars_factor)\n",
        "              \n",
        "            #END Batches\n",
        "            self.DN['errors'][layer].append((epoch, errsum.detach().cpu().numpy()))\n",
        "          #END Epoches\n",
        "\n",
        "        # save learned weights\n",
        "        self.DN['vis_bias' + str(layer)] = visbiases_GPU.detach().cpu().numpy()\n",
        "        self.DN['hid_bias' + str(layer)] = hidbiases_GPU.detach().cpu().numpy()\n",
        "        self.DN['vishid'   + str(layer)] = vishid_GPU.detach().cpu().numpy()\n",
        "        \n",
        "        #print(self.DN['vishid'   + str(layer)].shape)\n",
        "\n",
        "  def simple_load_emnist(fname): \n",
        "    dataset = scipy.io.loadmat(fname)\n",
        "    data_train = dataset['dataset']['train']\n",
        "    data_test = dataset['dataset']['test']\n",
        "    x_train = data_train[0,0]['images'][0,0]\n",
        "    x_train = x_train.astype('float32') / 255\n",
        "    y_train = data_train[0,0]['labels'][0,0]\n",
        "    y_train = y_train.astype(int)\n",
        "    x_test = data_test[0,0]['images'][0,0]\n",
        "    x_test = x_test.astype('float32')  / 255\n",
        "    y_test = data_test[0,0]['labels'][0,0]\n",
        "    y_test = y_test.astype(int)\n",
        "    return (x_train, y_train, x_test, y_test)\n",
        "\n",
        "  def load_data(fname, NUMB_CLASSES, batchsize):\n",
        "    dataset = scipy.io.loadmat(fname)\n",
        "    data_train = dataset['dataset']['train']\n",
        "    data_test = dataset['dataset']['test']\n",
        "    x_train = data_train[0,0]['images'][0,0]\n",
        "    x_train = x_train.astype('float32') / 255\n",
        "    y_train = data_train[0,0]['labels'][0,0]\n",
        "    y_train = y_train.astype(int)\n",
        "    x_test = data_test[0,0]['images'][0,0]\n",
        "    x_test = x_test.astype('float32')  / 255\n",
        "    y_test = data_test[0,0]['labels'][0,0]\n",
        "    y_test = y_test.astype(int)\n",
        "\n",
        "    iterations = int(len(x_train)/batchsize)\n",
        "    batchdata = np.zeros(shape=(batchsize, 784, iterations), dtype='float32')\n",
        "\n",
        "    for i in range(batchsize):\n",
        "      for j in range(iterations):\n",
        "        batchdata[i, :,j] = x_train[i*j, :]\n",
        "\n",
        "    length_train = int(len(x_train))\n",
        "    tr_labels = np.zeros(shape=(length_train, NUMB_CLASSES))\n",
        "    for i in range(length_train):\n",
        "        tr_labels[i, y_train[i]] = 1.0\n",
        "\n",
        "    length_test = int(len(y_test))\n",
        "    te_labels = np.zeros(shape=(length_test, NUMB_CLASSES))\n",
        "    for i in range(length_test):\n",
        "        te_labels[i, y_test[i]] = 1.0\n",
        "\n",
        "    return (x_train, tr_labels, x_test, te_labels, batchdata)\n",
        "\n",
        "\n",
        "  def to_string(self):\n",
        "      if self.sparsity:\n",
        "        sparsity_text = ' Sparse'\n",
        "      else:\n",
        "        sparsity_text = ''\n",
        "      return \"DBN: {0} {1} {2} {3}\".format(str(self.DN['layersize']), \\\n",
        "                                             self.DN['batchsize'], \\\n",
        "                                             self.DN['maxepochs'], sparsity_text)\n",
        "\n",
        "  "
      ],
      "execution_count": 78,
      "outputs": []
    },
    {
      "cell_type": "code",
      "metadata": {
        "id": "U8ivqXCqXHyQ"
      },
      "source": [
        "class HyperParameterConf:\n",
        "####### HYPER PARAMTERS of DBN ####################\n",
        "# layers_nn, maxepochs=50, batchsize=125, epsilonw=0.1,\n",
        "# sparsity=True, spars_factor=0.04, epsilonvb=0.1, epsilonhb=0.1, \n",
        "# weightcost=0.0002, init_momentum=0.5, final_momentum=0.9):\n",
        "\n",
        "  def __init__(self, layers_nn, maxepochs=50, batchsize=125, epsilonw=0.1, \\\n",
        "               sparsity=True, spars_factor=0.04, epsilonvb=0.1, epsilonhb=0.1, \\\n",
        "               weightcost=0.0002, init_momentum=0.5, final_momentum=0.9):\n",
        "    \n",
        "    self.layers = layers_nn\n",
        "    self.batchsize= batchsize\n",
        "    self.maxepochs = maxepochs\n",
        "    self.epsilonw = epsilonw #learning rate DeltaW = epsilonw (pos_v * pos_h - neg_v * neg_h)\n",
        "    self.epsilonvb=epsilonvb\n",
        "    self.epsilonhb=epsilonhb\n",
        "    self.weightcost = weightcost #constant weight decrease\n",
        "    self.init_momentum = init_momentum\n",
        "    self.final_momentum = final_momentum\n",
        "    self.sparsity = sparsity\n",
        "    self.spars_factor = spars_factor\n",
        "  \n",
        "  def get_dbn_model(self):\n",
        "    return DBN(layers_nn=self.layers, maxepochs=self.maxepochs, \\\n",
        "               batchsize=self.batchsize, epsilonw=self.epsilonw, \\\n",
        "               sparsity=self.sparsity, spars_factor=self.spars_factor, \\\n",
        "               epsilonvb=self.epsilonvb, epsilonhb=self.epsilonhb, \\\n",
        "               weightcost=self.weightcost, init_momentum=self.init_momentum, \\\n",
        "               final_momentum=self.final_momentum)\n",
        "    \n",
        "  def to_string(self):\n",
        "      if self.sparsity:\n",
        "        sparsity_text = ' Sparse'\n",
        "      else:\n",
        "        sparsity_text = ''\n",
        "      return \"DBN: {0}, {1}, {2} {3}\".format(str(self.layers), \\\n",
        "                                             self.batchsize, \\\n",
        "                                             self.maxepochs, sparsity_text)\n",
        "  "
      ],
      "execution_count": 79,
      "outputs": []
    },
    {
      "cell_type": "code",
      "metadata": {
        "id": "eQ9s2JZruyHY"
      },
      "source": [
        "def plot_accuracies (dbn_title, dbn_idx, results, axis):\n",
        "  width=0.35\n",
        "  tr_accuracies = [results[0][0]['tr_accuracy']]\n",
        "  te_accuracies = [results[0][0]['te_accuracy']]\n",
        "  #concatate first results with others\n",
        "  \n",
        "  tr_accuracies = tr_accuracies + list(map(lambda val: val['tr_accuracy'], results[dbn_idx]))\n",
        "  te_accuracies = te_accuracies + list(map(lambda val: val['te_accuracy'], results[dbn_idx]))\n",
        "  tr_accuracies = np.array(tr_accuracies) * 100\n",
        "  te_accuracies = np.array(te_accuracies) * 100\n",
        "\n",
        "  x = np.arange(len(results[dbn_idx])+1) \n",
        "  print(tr_accuracies)\n",
        "  print(tr_accuracies)\n",
        "  print(x - width/2)\n",
        "  bar_tr = axis.bar(x - width/2, tr_accuracies, width, label='Train. Acc.')\n",
        "  bar_te = axis.bar(x + width/2, te_accuracies, width, label='Test Acc.')\n",
        "  axis.set_xticks(x)\n",
        "  x_labels = list(map(lambda value : 'Layer {0}'.format(value), x))\n",
        "  x_labels[0] = 'Pixels'\n",
        "  axis.set_xticklabels(x_labels)\n",
        "  axis.legend(loc='upper left')\n",
        "  axis.set_label(\"Percentage\")\n",
        "  axis.set_title(\"Read-outs Acc. {0}\".format(dbn_title))\n",
        "  minimum = min(tr_accuracies.min(), te_accuracies.min())\n",
        "  if minimum > 5:\n",
        "    minimum -= 4\n",
        "  axis.set_ylim(minimum, 100)\n",
        "  autolabel(bar_tr, axis)\n",
        "  autolabel(bar_te, axis)"
      ],
      "execution_count": 80,
      "outputs": []
    },
    {
      "cell_type": "code",
      "metadata": {
        "id": "TOij0cxftVgp"
      },
      "source": [
        "ascii_fun = np.vectorize(lambda x: chr(x))\n",
        "\n",
        "def balanced_map_labels(label):\n",
        "  if label < 10:\n",
        "    return label + 48\n",
        "  elif label < 36:\n",
        "    return label + 54\n",
        "  elif label <38:\n",
        "    return label + 61\n",
        "  elif label < 43:\n",
        "    return label + 62\n",
        "  elif label == 43:\n",
        "    return label + 67\n",
        "  elif label < 46:\n",
        "    return label + 69\n",
        "  else:\n",
        "    return 116 #46\n",
        "\n",
        "letters_map_fun = np.vectorize(lambda x: x+64)\n",
        "balanced_map_fun = np.vectorize(balanced_map_labels)\n",
        "\n",
        "def plot_errors(dbn_model, axis, idx_model):\n",
        "  nlayers = dbn_model.DN['nlayers']\n",
        "  legends = []\n",
        "  legend_name = []\n",
        "  for layer in range(nlayers):\n",
        "    values = dbn_model.DN['errors'][layer]\n",
        "    x, y = zip(*values)\n",
        "    leg,  = axis.plot(x, y)\n",
        "    legends.append(leg)\n",
        "    legend_name.append('L{0}'.format(layer+1))\n",
        "\n",
        "  axis.legend(legends, legend_name, loc='upper right', shadow=True)\n",
        "  title = 'Errors DBN model {0}'.format(idx_model)\n",
        "  axis.set_title(title)\n",
        "\n",
        "def plot_conf_matrix(y_test, pred, title, axes, namedataset):\n",
        "  y_label_dec = np.argmax(y_test, axis=1)  \n",
        "  y_label_pred = np.argmax(pred, axis=1)\n",
        "  if namedataset == 'letters':\n",
        "    y_label_dec = letters_map_fun(y_label_dec)\n",
        "    y_label_pred = letters_map_fun(y_label_pred)\n",
        "  else:\n",
        "    y_label_dec = balanced_map_fun(y_label_dec)\n",
        "    y_label_pred = balanced_map_fun(y_label_pred)\n",
        "  y_label_dec = ascii_fun(y_label_dec)\n",
        "  y_label_pred = ascii_fun(y_label_pred)\n",
        "  skplt.metrics.plot_confusion_matrix(\n",
        "      y_label_dec, \n",
        "      y_label_pred, normalize=True, title=title, ax = axes)"
      ],
      "execution_count": 81,
      "outputs": []
    },
    {
      "cell_type": "code",
      "metadata": {
        "id": "YMuCBKW6780m"
      },
      "source": [
        "def plot_visihidlayers(DN, idx_layers, n_hidden, figsize):\n",
        "\n",
        "  v, h = DN['vishid0'].shape # number of visible and hidden units\n",
        "  imgsize = int(math.sqrt(v));\n",
        "  if n_hidden > h:\n",
        "      n_hidden = h;\n",
        "\n",
        "  n_x = math.floor(math.sqrt(n_hidden))\n",
        "  n_y = n_x\n",
        "  n_hidden = n_x * n_y;\n",
        "\n",
        "  \n",
        "  for layer in idx_layers:\n",
        "    row = 0\n",
        "    column = 0\n",
        "    fig, axes = plt.subplots(n_x, n_x, figsize=figsize)\n",
        "    fig.suptitle(\"Visible Hidd. Layer {0}\".format(layer+1), fontsize=14)\n",
        "\n",
        "    ## Visible hidden neuron sum weights calculation\n",
        "    for i_n in range(n_hidden):\n",
        "      prev_weights = None\n",
        "      for id_layer in range(layer+1) :\n",
        "        vishidname = 'vishid{0}'.format(id_layer)\n",
        "        if id_layer == layer:\n",
        "          weights = DN[vishidname][:, i_n]\n",
        "        else:\n",
        "          weights = DN[vishidname]\n",
        "        weights = np.multiply(weights, (np.abs(weights) > 0.0))\n",
        "        if prev_weights is not None:\n",
        "          weights = prev_weights.dot(weights)\n",
        "          weights = np.multiply(weights, np.abs(weights) > 0.0)\n",
        "        prev_weights = weights\n",
        "\n",
        "      if column == n_y:\n",
        "        row += 1\n",
        "        column = 0\n",
        "      axis = axes[row, column]\n",
        "      \n",
        "      axis.imshow(weights.reshape((imgsize, imgsize)), cmap=plt.cm.gray)\n",
        "      column +=1\n",
        "\n",
        "    plt.show()\n"
      ],
      "execution_count": 82,
      "outputs": []
    },
    {
      "cell_type": "code",
      "metadata": {
        "id": "lq-UObsNUNBt"
      },
      "source": [
        "from scipy.linalg import lstsq\n",
        "\n",
        "def predict(model_weight, x, labels):\n",
        "  x_CPU = np.hstack((x, np.ones((len(x), 1))))\n",
        "  pred = np.dot(x_CPU, model_weight)\n",
        "  max_act_idx = np.argmax(pred, axis=1)\n",
        "  r = np.nonzero(labels)[1]\n",
        "  acc = (max_act_idx == r)\n",
        "  te_accuracy = np.mean(acc)\n",
        "  return ({\"tr_accuracy\": tr_accuracy, \"te_accuracy\": te_accuracy}, pred)\n",
        "\n",
        "def perceptron_CPU(tr_patterns, tr_labels, te_patterns, te_labels):\n",
        "\n",
        "  te_accuracy = 0;\n",
        "  tr_accuracy = 0;\n",
        "\n",
        "  # add biases\n",
        "  tr_patterns_CPU = np.hstack((tr_patterns, np.ones((len(tr_patterns), 1))))\n",
        "  weights, res, rnk, s= lstsq(tr_patterns_CPU, tr_labels)\n",
        "  # training accuracy\n",
        "  pred = np.dot(tr_patterns_CPU, weights)\n",
        "  max_act_idx = np.argmax(pred, axis=1)\n",
        "  r = np.nonzero(tr_labels)[1]\n",
        "  acc = max_act_idx == r\n",
        "\n",
        "  tr_accuracy = np.mean(acc)\n",
        "\n",
        "  # test accuracy\n",
        "  accuracy, pred = predict(weights, te_patterns, te_labels)\n",
        "  return (accuracy, pred, weights)\n",
        "\n",
        "def train_predict(dbn_model, input_train, output_train, input_test, output_test, layer_idx):\n",
        "  vishid = dbn_model.DN['vishid' + str(layer_idx)]\n",
        "  hid_bias = dbn_model.DN['hid_bias' + str(layer_idx)]\n",
        "  H_tr = 1 /(1 + np.exp(-np.dot(input_train, vishid) - np.matlib.repmat(hid_bias, len(input_train), 1)));\n",
        "  H_te = 1 /(1 + np.exp(-np.dot(input_test, vishid) - np.matlib.repmat(hid_bias, len(input_test), 1)));\n",
        "  accuracy, pred, weights = perceptron_CPU(H_tr, output_train, H_te, output_test)\n",
        "  return (accuracy, pred, weights)"
      ],
      "execution_count": 117,
      "outputs": []
    },
    {
      "cell_type": "code",
      "metadata": {
        "id": "kaMu9v6TPO9f"
      },
      "source": [
        "#MNIST Train 60000 ---> 125 --> 480\n",
        "#Letters Train 124800 ---> 260 or 240\n",
        "#Digits Train 240000 --->\n",
        "#Balanced Train 112800 -->\n",
        "namedataset = 'letters'\n",
        "fname = ('/home/emnist-' + namedataset + '.mat')\n",
        "\n",
        "batch_dict = {\"mnist\" : 125,\n",
        "              \"letters\" : 240,\n",
        "              \"digits\" : 200,\n",
        "              \"balanced\" :  200}\n",
        "NUMB_CLASSES = {\"mnist\" : int(10),\n",
        "              \"letters\" : int(37),\n",
        "              \"digits\" : int(10),\n",
        "              \"balanced\" :  int(47)}\n",
        "\n",
        "####### HYPER PARAMTERS of DBN ####################\n",
        "# layers_nn, maxepochs=50, batchsize=125, epsilonw=0.1,\n",
        "# sparsity=True, spars_factor=0.04, epsilonvb=0.1, epsilonhb=0.1, \n",
        "# weightcost=0.0002, init_momentum=0.5, final_momentum=0.9):\n",
        "\n",
        "dbn_models_conf = []\n",
        "\n",
        "dbn_models_conf.append(HyperParameterConf(layers_nn = np.array([784, 500, 500, 2000]), \\\n",
        "                           epsilonw=0.1, batchsize=batch_dict[namedataset], \\\n",
        "                           maxepochs=100, sparsity=False))\n",
        "#dbn_models_conf.append(HyperParameterConf(layers_nn = np.array([784, 500, 500, 2000]), \\\n",
        "#                           epsilonw=0.3, batchsize=batch_dict[namedataset], \\\n",
        "#                           maxepochs=100, sparsity=True, spars_factor=0.06))\n"
      ],
      "execution_count": 84,
      "outputs": []
    },
    {
      "cell_type": "code",
      "metadata": {
        "id": "S5rAEVg9mOeS",
        "colab": {
          "base_uri": "https://localhost:8080/",
          "height": 1000
        },
        "outputId": "9812f936-b257-4df3-9a49-3a07087b2ab0"
      },
      "source": [
        "print_layer_matr = False\n",
        "results = {}\n",
        "x_train, y_train, x_test, y_test, batch_data = DBN.load_data(fname, NUMB_CLASSES[namedataset], batch_dict[namedataset])\n",
        "del batch_data\n",
        "accuracy, _, raw_model_weights = perceptron_CPU(x_train, y_train, x_test, y_test)\n",
        "results[0] = [accuracy.copy()]\n",
        "print('Raw Data perceptron Accuracy: {0:.2f}, test accuracy: {1:.2f}'.format( \\\n",
        "                accuracy['tr_accuracy'] * 100, accuracy['te_accuracy'] * 100))\n",
        "del accuracy\n",
        "\n",
        "n_models = len(dbn_models_conf)\n",
        "\n",
        "i = 1\n",
        "\n",
        "res_idx = i\n",
        "prev_nlayers = 0\n",
        "width=0.35\n",
        "layer_model_weights = {}\n",
        "\n",
        "for dbn_model_conf in dbn_models_conf:\n",
        "  results[i] = []\n",
        "  dbn_model = dbn_model_conf.get_dbn_model()\n",
        "  x_train, y_train, x_test, y_test, batch_data = DBN.load_data(fname, NUMB_CLASSES[namedataset], dbn_model.DN['batchsize'])\n",
        "  DBN_model_name = \"DBN model {0} {1}\".format(i, dbn_model.to_string())\n",
        "  print(DBN_model_name)\n",
        "  print('Training begin')\n",
        "  x1 = time.strftime('%s')\n",
        "  dbn_model.train_dbn(batch_data, device=device)\n",
        "  x2 = time.strftime('%s')\n",
        "  print('Time diff {0}'.format(int(x2) - int(x1)))\n",
        "  print(\"Training done\")\n",
        "  \n",
        "  save_to_matlab_model(dbn_model=dbn_model)\n",
        "  \n",
        "  nlayers = dbn_model.DN['nlayers']\n",
        "  #Prepare subplots\n",
        "  fig = plt.figure(i, figsize=(15, 8),constrained_layout=True)\n",
        "  fig.suptitle(DBN_model_name, fontsize=12, fontweight='bold')\n",
        "  fig.subplots_adjust(hspace=.25, wspace=.25)\n",
        "  N_ROWS_PLOT = nlayers + 1\n",
        "  N_COLUMN_PLOT = 2\n",
        "  \n",
        "  if not print_layer_matr:\n",
        "    gs = fig.add_gridspec(nrows=1, ncols=2)\n",
        "  else:\n",
        "    gs = fig.add_gridspec(nrows=N_ROWS_PLOT, ncols=2)\n",
        "\n",
        "  pred = None\n",
        "  prev_train = x_train.copy()\n",
        "  prev_test = x_test.copy()\n",
        "  for layer_idx in range(nlayers):\n",
        "    #accuracy, pred, weights = train_predict(dbn_model, prev_train, y_train, prev_test, y_test, layer_idx)\n",
        "    #layer_model_weights[layer_idx] = weights\n",
        "\n",
        "    vishid = dbn_model.DN['vishid' + str(layer_idx)]\n",
        "    hid_bias = dbn_model.DN['hid_bias' + str(layer_idx)]\n",
        "    H_tr = 1 /(1 + np.exp(-np.dot(prev_train, vishid) - np.matlib.repmat(hid_bias, len(prev_train), 1)));\n",
        "    H_te = 1 /(1 + np.exp(-np.dot(prev_test, vishid) - np.matlib.repmat(hid_bias, len(prev_test), 1)));\n",
        "    accuracy, pred, layer_model_weights[layer_idx] = perceptron_CPU(H_tr, y_train, H_te, y_test)\n",
        "    results[i].append(accuracy)\n",
        "    tr_accuracy  = accuracy['tr_accuracy']\n",
        "    te_accuracy = accuracy['te_accuracy'] \n",
        "    print('Read out Level {0} DBN layer accuracy: {1:.2f}, test accuracy: {2:.2f}'.format(layer_idx+1, tr_accuracy  * 100, te_accuracy  * 100))\n",
        "\n",
        "    #PLOT Confusion Matrix\n",
        "    if print_layer_matr:\n",
        "      row = layer_idx + 1\n",
        "      axis = fig.add_subplot(gs[row, :])\n",
        "      #axis = plt.subplot2grid((N_ROWS_PLOT , N_COLUMN_PLOT), (row, 0), rowspan=4, fig=fig)\n",
        "      plot_conf_matrix(y_test, pred, 'Conf. Matr. Layer {0}'.format(layer_idx+1), axis, namedataset=namedataset)\n",
        "    ##\n",
        "    prev_train = H_tr\n",
        "    prev_test = H_te\n",
        "  \n",
        "  \n",
        "  #axis = plt.subplot2grid((N_ROWS_PLOT , N_COLUMN_PLOT), (0,0), fig=fig)\n",
        "  #PLOT Accuracies\n",
        "  axis = fig.add_subplot(gs[0, 0])\n",
        "  plot_accuracies('DBN {0}'.format(i), i, results, axis)\n",
        "  #### PLOT Errors\n",
        "  #axis = plt.subplot2grid((N_ROWS_PLOT , N_COLUMN_PLOT), (0,1), fig=fig)\n",
        "  axis = fig.add_subplot(gs[0, 1])\n",
        "  plot_errors(dbn_model, axis, i)\n",
        "  plt.show()\n",
        "  #PLOT Confusion Matrix\n",
        "  if not print_layer_matr:\n",
        "    fig, ax = plt.subplots(figsize=(40,15))\n",
        "    plot_conf_matrix(y_test, pred, 'Conf. Matr. Layer {0}'.format(layer_idx+1), ax, namedataset)\n",
        "    plt.show()\n",
        "  ##\n",
        "  prev_nlayers = nlayers\n",
        "  i = i +1\n",
        "  res_idx += 1\n"
      ],
      "execution_count": 119,
      "outputs": [
        {
          "output_type": "stream",
          "text": [
            "Raw Data perceptron Accuracy: 90.25, test accuracy: 85.92\n",
            "DBN model 1 DBN: [100 100] 125 20  Sparse\n",
            "Training begin\n",
            "Training layer  1 ...\n",
            "Training layer  2 ...\n",
            "Time diff 15\n",
            "Training done\n"
          ],
          "name": "stdout"
        },
        {
          "output_type": "stream",
          "text": [
            "/usr/local/lib/python3.6/dist-packages/ipykernel_launcher.py:38: UserWarning: This figure was using constrained_layout==True, but that is incompatible with subplots_adjust and or tight_layout: setting constrained_layout==False. \n",
            "/usr/local/lib/python3.6/dist-packages/ipykernel_launcher.py:56: RuntimeWarning: overflow encountered in exp\n",
            "/usr/local/lib/python3.6/dist-packages/ipykernel_launcher.py:57: RuntimeWarning: overflow encountered in exp\n"
          ],
          "name": "stderr"
        },
        {
          "output_type": "stream",
          "text": [
            "Read out Level 1 DBN layer accuracy: 90.25, test accuracy: 88.71\n",
            "Read out Level 2 DBN layer accuracy: 90.25, test accuracy: 88.00\n",
            "[90.25 90.25 90.25]\n",
            "[90.25 90.25 90.25]\n",
            "[-0.17  0.82  1.82]\n"
          ],
          "name": "stdout"
        },
        {
          "output_type": "display_data",
          "data": {
            "image/png": "[encoded data removed]",
            "text/plain": [
              "<Figure size 1080x576 with 2 Axes>"
            ]
          },
          "metadata": {
            "tags": [],
            "needs_background": "light"
          }
        },
        {
          "output_type": "display_data",
          "data": {
            "image/png": "[encoded data removed]",
            "text/plain": [
              "<Figure size 2880x1080 with 2 Axes>"
            ]
          },
          "metadata": {
            "tags": [],
            "needs_background": "light"
          }
        }
      ]
    },
    {
      "cell_type": "code",
      "metadata": {
        "id": "TPZw8CRXoMnx"
      },
      "source": [
        "plot_visihidlayers(DN=dbn_model.DN, idx_layers=[2, 1, 0], n_hidden=100, figsize=(20,20))"
      ],
      "execution_count": null,
      "outputs": []
    },
    {
      "cell_type": "code",
      "metadata": {
        "id": "MrjRjfZqNAYu"
      },
      "source": [
        "loadmatname = 'DN_COLAB_{0}.mat'.format(dbn_model.to_string())\n",
        "scipy.io.loadmat(savematname, {'DN': dbn_model.DN})"
      ],
      "execution_count": null,
      "outputs": []
    },
    {
      "cell_type": "code",
      "metadata": {
        "id": "6jdRvXdA50bk"
      },
      "source": [
        "import scipy as sy\n",
        "from scipy.optimize import curve_fit\n",
        "\n",
        "d = np.array([75, 80, 90, 95, 100, 105, 110, 115, 120, 125], dtype=float)\n",
        "p1 = np.array([6, 13, 25, 29, 29, 29, 30, 29, 30, 30], dtype=float) / 30. # scale to 0..1\n",
        "\n",
        "# psychometric function\n",
        "def pf(x, alpha, beta):\n",
        "    return 1. / (1 + np.exp( -(x-alpha)/beta ))\n",
        "\n",
        "# fitting\n",
        "par0 = np.array([100., 1.]) # use some good starting values, reasonable default is [0., 1.]\n",
        "par, mcov = curve_fit(pf, d, p1, par0)\n",
        "print(par)\n",
        "plt.plot(d, p1, 'ro')\n",
        "plt.plot(d, pf(d, par[0], par[1]))\n",
        "plt.show()"
      ],
      "execution_count": null,
      "outputs": []
    },
    {
      "cell_type": "code",
      "metadata": {
        "id": "t812CNf-wG1d"
      },
      "source": [
        "namedataset = 'mnist'\n",
        "fname = ('/home/emnist-' + namedataset + '.mat')\n",
        "batch_dict = {\"mnist\" : 125,\n",
        "              \"letters\" : 240,\n",
        "              \"digits\" : 200,\n",
        "              \"balanced\" :  200}\n",
        "NUMB_CLASSES = {\"mnist\" : int(10),\n",
        "              \"letters\" : int(37),\n",
        "              \"digits\" : int(10),\n",
        "              \"balanced\" :  int(47)}\n",
        "\n",
        "dbn_models_conf = []\n",
        "dbn_models_conf.append(HyperParameterConf(layers_nn = np.array([100, 100]), \\\n",
        "                           epsilonw=0.1, batchsize=batch_dict[namedataset], \\\n",
        "                           maxepochs=20, sparsity=True))"
      ],
      "execution_count": 118,
      "outputs": []
    },
    {
      "cell_type": "code",
      "metadata": {
        "id": "7HcW3LTNrJ8d"
      },
      "source": [
        "N_RANDOM_SAMPLE = 10\n",
        "rnd_idx = np.random.randint(low=0, high=len(x_test-1), size=(N_RANDOM_SAMPLE))\n",
        "rnd_x_test = random_noise(x_test[rnd_idx,:], mode='gaussian', mean=0, var=0.1)\n",
        "rnd_y_test = y_test[rnd_idx,:]\n",
        "n_layers = dbn_model.DN['nlayers']\n",
        "\n",
        "results_noise = {}\n",
        "accuracy_rnd, _ = predict(raw_model_weights, rnd_x_test, rnd_y_test)\n",
        "results_noise[0] = [accuracy_rnd.copy()]\n",
        "\n",
        "prev_test = rnd_x_test.copy()\n",
        "i = 1\n",
        "results_noise[1] = []\n",
        "for layer_idx in range(nlayers):\n",
        "    vishid = dbn_model.DN['vishid' + str(layer_idx)]\n",
        "    hid_bias = dbn_model.DN['hid_bias' + str(layer_idx)]\n",
        "\n",
        "    H_te_rnd = 1 /(1 + np.exp(-np.dot(prev_test, vishid) - np.matlib.repmat(hid_bias, len(prev_test), 1)));\n",
        "    accuracy_rnd, pred_rnd = predict(layer_model_weights[layer_idx], H_te_rnd, rnd_y_test)\n",
        "    results_noise[1].append(accuracy)\n",
        "    tr_accuracy  = accuracy_rnd['tr_accuracy']\n",
        "    te_accuracy = accuracy_rnd['te_accuracy'] \n",
        "    print('Read out Level {0} DBN layer accuracy: {1:.2f}, test accuracy: {2:.2f}'.format(layer_idx+1, tr_accuracy  * 100, te_accuracy  * 100))\n",
        "    prev_train = H_tr\n",
        "    prev_test = H_te\n",
        "    i +=1\n",
        "fig, axes = plt.subplots(1, 1)\n",
        "results_noise[1] = [accuracy.copy()]\n",
        "plot_accuracies('Guassian Noise', 1, results_noise, axes)\n",
        "plt.show()\n",
        "\n",
        "fig, axes = plt.subplots(1, 1, figsize=(40,15))\n",
        "#plot_conf_matrix(rnd_y_test, pred_rnd, 'Conf. Matr. Layer', axes, namedataset)\n",
        "plt.show()"
      ],
      "execution_count": null,
      "outputs": []
    },
    {
      "cell_type": "code",
      "metadata": {
        "id": "-F5dpA25f5Xq",
        "outputId": "e1bbdf20-da17-4c72-e037-8fbb9c1762cf",
        "colab": {
          "base_uri": "https://localhost:8080/"
        }
      },
      "source": [
        "x_train.shape"
      ],
      "execution_count": 115,
      "outputs": [
        {
          "output_type": "execute_result",
          "data": {
            "text/plain": [
              "(60000, 784)"
            ]
          },
          "metadata": {
            "tags": []
          },
          "execution_count": 115
        }
      ]
    },
    {
      "cell_type": "code",
      "metadata": {
        "id": "Zd_bHG_Qqlmy",
        "outputId": "2c62b1e2-6018-481a-9285-679ffa614097",
        "colab": {
          "base_uri": "https://localhost:8080/"
        }
      },
      "source": [
        "noise_image = random_noise(x_test[0:10], mode='gaussian', mean=0, var=0.1)\n",
        "pepper_noise = random_noise(x_test[10], mode='s&p')\n",
        "#my_noise = x_test[10] + np.random.normal(0, 0.1, noise_image.size)\n",
        "noise_image.shape"
      ],
      "execution_count": 109,
      "outputs": [
        {
          "output_type": "execute_result",
          "data": {
            "text/plain": [
              "(10, 784)"
            ]
          },
          "metadata": {
            "tags": []
          },
          "execution_count": 109
        }
      ]
    },
    {
      "cell_type": "code",
      "metadata": {
        "id": "wckunknArZ1v",
        "outputId": "4b4fb829-0000-4692-a520-405ee091978a",
        "colab": {
          "base_uri": "https://localhost:8080/",
          "height": 140
        }
      },
      "source": [
        "fig, ax = plt.subplots(1, 4)\n",
        "ax[0].imshow(rotate(x_test[100]), cmap='gray')\n",
        "ax[1].imshow(rotate(noise_image[9,:]), cmap='gray')\n",
        "ax[2].imshow(rotate(pepper_noise), cmap='gray', )\n",
        "ax[3].imshow(rotate(my_noise), cmap='gray')"
      ],
      "execution_count": 110,
      "outputs": [
        {
          "output_type": "execute_result",
          "data": {
            "text/plain": [
              "<matplotlib.image.AxesImage at 0x7f6a901857f0>"
            ]
          },
          "metadata": {
            "tags": []
          },
          "execution_count": 110
        },
        {
          "output_type": "display_data",
          "data": {
            "image/png": "[encoded data removed]",
            "text/plain": [
              "<Figure size 432x288 with 4 Axes>"
            ]
          },
          "metadata": {
            "tags": [],
            "needs_background": "light"
          }
        }
      ]
    }
  ]
}